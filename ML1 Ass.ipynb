{
 "cells": [
  {
   "cell_type": "code",
   "execution_count": null,
   "id": "42ab2d71-02ab-4482-a673-243c4add4b12",
   "metadata": {},
   "outputs": [],
   "source": [
    "a) Artificial Intelligence\n",
    "b) Machine Learning,\n",
    "c) Deep Learning"
   ]
  },
  {
   "cell_type": "markdown",
   "id": "c3cd1f60-57f5-41bc-ba91-e065a666ad70",
   "metadata": {},
   "source": [
    "1) Artificial Intelligence=AI refers to the simlation of human intelligence in machines that are programmed to think learn like human.\n",
    "ex=Virtual assistance like Siri and Alexa use AI\n",
    "2) Machine Learning= Ex= A recommendation system used by Netflix o Amazon\n",
    "3) Deep Learning = Image recognition system such as those used in self-driving cars, rely on deep learning."
   ]
  },
  {
   "cell_type": "code",
   "execution_count": null,
   "id": "a377c29d-0102-4c35-8738-87ef149dd140",
   "metadata": {},
   "outputs": [],
   "source": [
    "Q2- What is supervised learning? List some examples of supervised learning."
   ]
  },
  {
   "cell_type": "markdown",
   "id": "453d49a3-ee02-46c5-a501-4059cc0fb62f",
   "metadata": {},
   "source": [
    "Supervised learning is type of machine learning where an algorithm is trained on a labeled dataset.\n",
    "1. Logistic Regression\n",
    "2. support vector machines\n",
    "3. Linear Regression\n",
    "4. Decison Trees\n",
    "5. Random Forests\n",
    "6. Neural Networks\n",
    "7. k-Nearest Neighbors\n",
    "8. Naive Bayes\n",
    "9. Gradient Boosting Machines"
   ]
  },
  {
   "cell_type": "code",
   "execution_count": null,
   "id": "3509019e-e4e7-4004-a7be-ebc5618ddfe6",
   "metadata": {},
   "outputs": [],
   "source": [
    "Q3- What is unsupervised learning? List some eamples of unsupervised learning."
   ]
  },
  {
   "cell_type": "markdown",
   "id": "a66159e8-76f6-4371-b20e-cd63f47365dd",
   "metadata": {},
   "source": [
    "Supervised learning is type of machine learning where an algorithm is trained on a labeled dataset.\n",
    "1.Clustering\n",
    "2.Demensionality Reduction\n",
    "3.Association Rules\n",
    "4.Anomaly Detection\n",
    "5.Autoencoders"
   ]
  },
  {
   "cell_type": "code",
   "execution_count": null,
   "id": "65730d22-d3a0-4eaf-9949-db1b9c980b7e",
   "metadata": {},
   "outputs": [],
   "source": [
    "Q4- What is the difference btween AI, ML, DL, and DS?"
   ]
  },
  {
   "cell_type": "markdown",
   "id": "c8da2410-0f29-486b-b074-576624602838",
   "metadata": {},
   "source": [
    "1) Artificial Intelligence=AI refers to the simlation of human intelligence in machines that are programmed to think learn like human.\n",
    "ex=Virtual assistance like Siri and Alexa use AI\n",
    "2) Machine Learning= Ex= A recommendation system used by Netflix o Amazon\n",
    "3) Deep Learning = Image recognition system such as those used in self-driving cars, rely on deep learning.\n",
    "4) Data science(DS)=Ds is the multidisciplinary field that uses scientific methords processes,algorithms,and systems to extract knowledge and insights from structured a"
   ]
  },
  {
   "cell_type": "code",
   "execution_count": null,
   "id": "91af23bd-1e3f-4559-b1a4-8bfb59bfd763",
   "metadata": {},
   "outputs": [],
   "source": [
    "Q5- What are the main differnces betweenn supervised , unsupervised , and semi-supervised learning."
   ]
  },
  {
   "cell_type": "markdown",
   "id": "ceeb166a-0031-41da-b7a1-dfb7c14aa00d",
   "metadata": {},
   "source": [
    "supervised = The model is trained on a labeled dataset which means each training example is\n",
    "paired with an output label.\n",
    "unsupervised =The model is trained on a unlabeled dataset which means each training data has no\n",
    "corresponding output labels\n",
    "semi-supervised learning=The model is trained on a dataset that contains a small amount of labeled data and large amount of unlabeled data."
   ]
  },
  {
   "cell_type": "code",
   "execution_count": null,
   "id": "d9f73c66-bbc0-4d93-be3a-66fcebf5bb59",
   "metadata": {},
   "outputs": [],
   "source": [
    "Q6- What is train, test and validation split? Explain the importance of each term."
   ]
  },
  {
   "cell_type": "markdown",
   "id": "3b6a3316-3edb-434d-a12d-72d0a557b94f",
   "metadata": {},
   "source": [
    "Training test= this subset of the data is used to train the model. the model learns patterns relationship\n",
    "and features from this data\n",
    "Validation set=this subset of the data is used to tune hyperparameters and make decision about which model performs best\n",
    "Test set = This subset of the data is used to evaluate the final model after training and validation."
   ]
  },
  {
   "cell_type": "code",
   "execution_count": null,
   "id": "c88a7f0a-3311-40e6-b845-0531ebc65ab1",
   "metadata": {},
   "outputs": [],
   "source": [
    "Q7- How can unsupervised learning be used in anomaly detection?"
   ]
  },
  {
   "cell_type": "markdown",
   "id": "5b2b26b7-4ca0-4860-8e4e-8f463cd561da",
   "metadata": {},
   "source": [
    "1.clustering-based methods\n",
    "2.Density Estimation methods\n",
    "3.Principal component Analysis\n",
    "4.Autoencoders(Neural Networks\n",
    "5.Isolation Forest"
   ]
  },
  {
   "cell_type": "code",
   "execution_count": null,
   "id": "f14943dd-524d-4fa6-bd63-4d709c8c49a2",
   "metadata": {},
   "outputs": [],
   "source": [
    "Q8- List down some commonly used supervised learning algorithms and unsupervised learning\n",
    "algorithms."
   ]
  },
  {
   "cell_type": "code",
   "execution_count": null,
   "id": "db22e60d-9144-437b-9cd8-5c2c1d1c1da5",
   "metadata": {},
   "outputs": [],
   "source": [
    "linear Regression\n",
    "logistic Regression\n",
    "decision trees\n",
    "random forest \n",
    "SVM\n",
    "k-NN\n",
    "GBM\n",
    "UNSUPERVISED"
   ]
  },
  {
   "cell_type": "code",
   "execution_count": null,
   "id": "10827c34-63ab-45d5-880c-61831ab88dbf",
   "metadata": {},
   "outputs": [],
   "source": []
  },
  {
   "cell_type": "code",
   "execution_count": null,
   "id": "9bcf7094-d1af-4525-9736-0650cd6ed063",
   "metadata": {},
   "outputs": [],
   "source": []
  },
  {
   "cell_type": "code",
   "execution_count": null,
   "id": "93ec4d11-84ca-4766-87da-96bcf2f7e5ee",
   "metadata": {},
   "outputs": [],
   "source": []
  },
  {
   "cell_type": "markdown",
   "id": "a743d9a1-1a55-4066-b0f8-9c42181ec69a",
   "metadata": {},
   "source": []
  },
  {
   "cell_type": "code",
   "execution_count": null,
   "id": "50be8c6d-a5fa-4243-90e4-9f66314ab4e6",
   "metadata": {},
   "outputs": [],
   "source": []
  },
  {
   "cell_type": "code",
   "execution_count": null,
   "id": "c9562b5a-7516-4590-b9a8-f605243e97b9",
   "metadata": {},
   "outputs": [],
   "source": []
  },
  {
   "cell_type": "code",
   "execution_count": null,
   "id": "b51c83db-4b7c-404c-95b3-e8447135f83e",
   "metadata": {},
   "outputs": [],
   "source": []
  },
  {
   "cell_type": "code",
   "execution_count": null,
   "id": "c8b66cfd-87f4-40e1-b870-85bcc23fe4c0",
   "metadata": {},
   "outputs": [],
   "source": []
  },
  {
   "cell_type": "code",
   "execution_count": null,
   "id": "49bb2ff8-1e91-481a-ab8a-6bf509e2802f",
   "metadata": {},
   "outputs": [],
   "source": []
  },
  {
   "cell_type": "code",
   "execution_count": null,
   "id": "25eb23eb-d930-4353-ab46-7472973eb0f0",
   "metadata": {},
   "outputs": [],
   "source": []
  },
  {
   "cell_type": "code",
   "execution_count": null,
   "id": "25224525-736e-48fe-9b25-27c286b0924b",
   "metadata": {},
   "outputs": [],
   "source": []
  },
  {
   "cell_type": "code",
   "execution_count": null,
   "id": "02a92900-d151-4693-b160-3fc215ff5282",
   "metadata": {},
   "outputs": [],
   "source": []
  },
  {
   "cell_type": "code",
   "execution_count": null,
   "id": "871d9d06-b335-4e70-b627-53fffa095830",
   "metadata": {},
   "outputs": [],
   "source": []
  },
  {
   "cell_type": "code",
   "execution_count": null,
   "id": "322e8f6d-e22f-4636-bdaa-81d0a6d7b1fa",
   "metadata": {},
   "outputs": [],
   "source": []
  },
  {
   "cell_type": "code",
   "execution_count": null,
   "id": "3a657cfd-24ea-4d4e-b671-6d2f98ed80cf",
   "metadata": {},
   "outputs": [],
   "source": []
  },
  {
   "cell_type": "code",
   "execution_count": null,
   "id": "9c6954fa-8c39-42d5-97ae-8f83069ce1e3",
   "metadata": {},
   "outputs": [],
   "source": []
  },
  {
   "cell_type": "code",
   "execution_count": null,
   "id": "8aa41f71-b524-4e9e-a9ac-68764a84ffd3",
   "metadata": {},
   "outputs": [],
   "source": []
  },
  {
   "cell_type": "code",
   "execution_count": null,
   "id": "0da8a816-7cb8-4643-ad1d-1c040a4f022f",
   "metadata": {},
   "outputs": [],
   "source": []
  },
  {
   "cell_type": "code",
   "execution_count": null,
   "id": "22ffd247-06cb-4aed-bcf7-046344b1f104",
   "metadata": {},
   "outputs": [],
   "source": []
  },
  {
   "cell_type": "code",
   "execution_count": null,
   "id": "cacdb11d-aa13-4a24-bd59-921f514304db",
   "metadata": {},
   "outputs": [],
   "source": []
  },
  {
   "cell_type": "code",
   "execution_count": null,
   "id": "e8b51d56-e7b6-4ec2-98c2-c6019663c7bd",
   "metadata": {},
   "outputs": [],
   "source": []
  },
  {
   "cell_type": "code",
   "execution_count": null,
   "id": "060186b7-85ed-474a-a814-400e1cef8790",
   "metadata": {},
   "outputs": [],
   "source": []
  }
 ],
 "metadata": {
  "kernelspec": {
   "display_name": "Python 3 (ipykernel)",
   "language": "python",
   "name": "python3"
  },
  "language_info": {
   "codemirror_mode": {
    "name": "ipython",
    "version": 3
   },
   "file_extension": ".py",
   "mimetype": "text/x-python",
   "name": "python",
   "nbconvert_exporter": "python",
   "pygments_lexer": "ipython3",
   "version": "3.10.8"
  }
 },
 "nbformat": 4,
 "nbformat_minor": 5
}
